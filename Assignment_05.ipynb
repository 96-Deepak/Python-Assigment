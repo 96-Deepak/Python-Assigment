{
 "cells": [
  {
   "cell_type": "markdown",
   "metadata": {},
   "source": [
    "# 1. What does an empty dictionary's code look like?"
   ]
  },
  {
   "cell_type": "code",
   "execution_count": 3,
   "metadata": {},
   "outputs": [
    {
     "name": "stdout",
     "output_type": "stream",
     "text": [
      "<class 'dict'>\n",
      "{}\n"
     ]
    }
   ],
   "source": [
    "dict1 = {}\n",
    "print(type(dict1))\n",
    "print(dict1)"
   ]
  },
  {
   "cell_type": "markdown",
   "metadata": {},
   "source": [
    "# 2. What is the value of a dictionary value with the key 'foo' and the value 42?"
   ]
  },
  {
   "cell_type": "code",
   "execution_count": 6,
   "metadata": {},
   "outputs": [
    {
     "name": "stdout",
     "output_type": "stream",
     "text": [
      "42\n"
     ]
    }
   ],
   "source": [
    "# the value of dictionary is 42 please check below code. \n",
    "\n",
    "dict2 = {\"foo\": 42}\n",
    "print(dict2[\"foo\"])"
   ]
  },
  {
   "cell_type": "markdown",
   "metadata": {},
   "source": [
    "# 3. What is the most significant distinction between a dictionary and a list?"
   ]
  },
  {
   "cell_type": "raw",
   "metadata": {},
   "source": [
    "a list is an ordered sequence of objects whereas dictionaries are unordered sets. howerver main difference is that items in\n",
    "dictionaries are accessed via keys and not via their position. "
   ]
  },
  {
   "cell_type": "markdown",
   "metadata": {},
   "source": [
    "# 4. What happens if spam['foo'] is 'bar': 100 and you try to access it?"
   ]
  },
  {
   "cell_type": "raw",
   "metadata": {},
   "source": [
    "spam = {'bar':100}\n",
    "spam['foo']\n",
    "\n",
    "this through the error \"KeyError\""
   ]
  },
  {
   "cell_type": "markdown",
   "metadata": {},
   "source": [
    "# 5. What is the difference between the terms 'cat' in spam and 'cat' in spam if a dictionary is contained in spam?\n",
    "\n",
    "# What is the function keys()"
   ]
  },
  {
   "cell_type": "raw",
   "metadata": {},
   "source": [
    "There is no difference. The in operator checks whether a value exists as a key in the dictionary. \n",
    "'cat' in spam checks whether there is a 'cat' key in the dictionary, while 'cat' in spam. values()\n",
    "checks whether there is a value 'cat' for one of the keys in spam ."
   ]
  },
  {
   "cell_type": "markdown",
   "metadata": {},
   "source": [
    "# 6. What is the difference between the terms 'cat' in spam and 'cat' in spam.values() when a dictionary is contained in spam?"
   ]
  },
  {
   "cell_type": "raw",
   "metadata": {},
   "source": [
    "There is no difference. The in operator checks whether a value exists as a key in the dictionary. \n",
    "'cat' in spam checks whether there is a 'cat' key in the dictionary, while 'cat' in spam. values() \n",
    "checks whether there is a value 'cat' for one of the keys in spam ."
   ]
  },
  {
   "cell_type": "markdown",
   "metadata": {},
   "source": [
    "# 7. What is the quickest way to type the following code?\n",
    "\n",
    "# if the word 'colour' isn't in spam:\n",
    "\n",
    "# 'black' for spam['color']\n"
   ]
  },
  {
   "cell_type": "code",
   "execution_count": 17,
   "metadata": {},
   "outputs": [],
   "source": [
    "if 'color' in spam:\n",
    "    print(\"colour in spam\")\n",
    "else:\n",
    "    print(\"colour isn't in spam\")"
   ]
  },
  {
   "cell_type": "markdown",
   "metadata": {},
   "source": [
    "# 8. How do you \"pretty print\" dictionary values using which module and function?"
   ]
  },
  {
   "cell_type": "raw",
   "metadata": {},
   "source": [
    "This module also supports pretty-printing dictionary.\n",
    "Within the pprint module there is a function with the same name pprint() ,\n",
    "which is the function used to pretty-print the given string or object."
   ]
  },
  {
   "cell_type": "code",
   "execution_count": 22,
   "metadata": {},
   "outputs": [
    {
     "name": "stdout",
     "output_type": "stream",
     "text": [
      "[{'age': 24, 'name': 'Deepak'},\n",
      " {'age': 21, 'name': 'Akash'},\n",
      " {'age': 21, 'name': 'Akash'}]\n",
      "[{'name': 'Deepak', 'age': 24}, {'name': 'Akash', 'age': 21}, {'name': 'Akash', 'age': 21}]\n"
     ]
    }
   ],
   "source": [
    "import pprint\n",
    "dct = [\n",
    "    {'name':'Deepak','age':24},\n",
    "    {'name':'Akash', 'age':21},\n",
    "    {'name':'Akash', 'age':21}\n",
    "]\n",
    "pprint.pprint(dct)\n",
    "print(dct)"
   ]
  },
  {
   "cell_type": "code",
   "execution_count": null,
   "metadata": {},
   "outputs": [],
   "source": []
  }
 ],
 "metadata": {
  "kernelspec": {
   "display_name": "Python 3",
   "language": "python",
   "name": "python3"
  },
  "language_info": {
   "codemirror_mode": {
    "name": "ipython",
    "version": 3
   },
   "file_extension": ".py",
   "mimetype": "text/x-python",
   "name": "python",
   "nbconvert_exporter": "python",
   "pygments_lexer": "ipython3",
   "version": "3.7.4"
  }
 },
 "nbformat": 4,
 "nbformat_minor": 2
}
